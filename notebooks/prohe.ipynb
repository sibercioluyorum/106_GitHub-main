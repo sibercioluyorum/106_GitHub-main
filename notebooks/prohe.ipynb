{
 "cells": [
  {
   "cell_type": "code",
   "execution_count": 1,
   "metadata": {},
   "outputs": [],
   "source": [
    "import pandas as pd  # Import the pandas library for data manipulation and analysis"
   ]
  },
  {
   "cell_type": "code",
   "execution_count": 2,
   "metadata": {},
   "outputs": [
    {
     "data": {
      "text/html": [
       "<div>\n",
       "<style scoped>\n",
       "    .dataframe tbody tr th:only-of-type {\n",
       "        vertical-align: middle;\n",
       "    }\n",
       "\n",
       "    .dataframe tbody tr th {\n",
       "        vertical-align: top;\n",
       "    }\n",
       "\n",
       "    .dataframe thead th {\n",
       "        text-align: right;\n",
       "    }\n",
       "</style>\n",
       "<table border=\"1\" class=\"dataframe\">\n",
       "  <thead>\n",
       "    <tr style=\"text-align: right;\">\n",
       "      <th></th>\n",
       "      <th>Başlık</th>\n",
       "      <th>Kategori</th>\n",
       "      <th>İçerik</th>\n",
       "    </tr>\n",
       "  </thead>\n",
       "  <tbody>\n",
       "    <tr>\n",
       "      <th>0</th>\n",
       "      <td>Relief Rally Vanishes After New Data</td>\n",
       "      <td>BUSINESS</td>\n",
       "      <td>Wall Street followed European and Asian market...</td>\n",
       "    </tr>\n",
       "    <tr>\n",
       "      <th>1</th>\n",
       "      <td>Hits and Misses</td>\n",
       "      <td>N.F.L.</td>\n",
       "      <td>N.F.L. executives had many additional months t...</td>\n",
       "    </tr>\n",
       "    <tr>\n",
       "      <th>2</th>\n",
       "      <td>Corrections: August 1</td>\n",
       "      <td>CORRECTIONS</td>\n",
       "      <td>Corrections appearing in print on August 1, 2011.</td>\n",
       "    </tr>\n",
       "    <tr>\n",
       "      <th>3</th>\n",
       "      <td>Peabody and Arcelor Go Hostile With Macarthur Bid</td>\n",
       "      <td>BUSINESS</td>\n",
       "      <td>Peabody Energy and ArcelorMittal took their bi...</td>\n",
       "    </tr>\n",
       "    <tr>\n",
       "      <th>4</th>\n",
       "      <td>‘I’ll Die for You’</td>\n",
       "      <td>MULTIMEDIA/PHOTOS</td>\n",
       "      <td>Laura El-Tantawy couldn’t explain what it was ...</td>\n",
       "    </tr>\n",
       "  </tbody>\n",
       "</table>\n",
       "</div>"
      ],
      "text/plain": [
       "                                              Başlık           Kategori  \\\n",
       "0               Relief Rally Vanishes After New Data           BUSINESS   \n",
       "1                                    Hits and Misses             N.F.L.   \n",
       "2                              Corrections: August 1        CORRECTIONS   \n",
       "3  Peabody and Arcelor Go Hostile With Macarthur Bid           BUSINESS   \n",
       "4                                 ‘I’ll Die for You’  MULTIMEDIA/PHOTOS   \n",
       "\n",
       "                                              İçerik  \n",
       "0  Wall Street followed European and Asian market...  \n",
       "1  N.F.L. executives had many additional months t...  \n",
       "2  Corrections appearing in print on August 1, 2011.  \n",
       "3  Peabody Energy and ArcelorMittal took their bi...  \n",
       "4  Laura El-Tantawy couldn’t explain what it was ...  "
      ]
     },
     "execution_count": 2,
     "metadata": {},
     "output_type": "execute_result"
    }
   ],
   "source": [
    "# Load the Excel file using Pandas' read_excel function\n",
    "df = pd.read_excel(\"NYTimesData2.1.xlsx\")  # Replace with the path to your Excel file\n",
    "\n",
    "# Display the first few rows of the dataframe\n",
    "df.head()"
   ]
  },
  {
   "cell_type": "markdown",
   "metadata": {},
   "source": []
  },
  {
   "cell_type": "code",
   "execution_count": null,
   "metadata": {},
   "outputs": [
    {
     "ename": "",
     "evalue": "",
     "output_type": "error",
     "traceback": [
      "\u001b[1;31mRunning cells with 'base (Python 3.11.9)' requires the ipykernel package.\n",
      "\u001b[1;31mRun the following command to install 'ipykernel' into the Python environment. \n",
      "\u001b[1;31mCommand: 'conda install -n base ipykernel --update-deps --force-reinstall'"
     ]
    }
   ],
   "source": [
    "import pandas as pd\n",
    "import nltk\n",
    "from nltk.corpus import stopwords\n",
    "from nltk.tokenize import word_tokenize\n",
    "from nltk.stem import WordNetLemmatizer, PorterStemmer\n",
    "import string\n",
    "import re\n",
    "\n",
    "# NLTK veri dosyalarını indir\n",
    "nltk.download('punkt')\n",
    "nltk.download('stopwords')\n",
    "nltk.download('wordnet')\n",
    "\n",
    "# Excel dosyasını yükle\n",
    "df = pd.read_excel(\"NYTimesData2.1.xlsx\")  # Excel dosyanızın yolunu ve adını yazın\n",
    "\n",
    "# Sütun adlarını yazdır\n",
    "print(\"Sütun adları:\", df.columns)\n",
    "\n",
    "# Metin ön işleme fonksiyonu tanımla\n",
    "def clean_text(text):\n",
    "    text = str(text).lower()  # Küçük harfe çevir ve metin olmayan hücreleri metne çevir\n",
    "    text = text.translate(str.maketrans('', '', string.punctuation))  # Noktalama işaretlerini kaldır\n",
    "    text = re.sub(r'\\d+', '', text)  # Sayıları kaldır\n",
    "    tokens = word_tokenize(text)  # Tokenize et\n",
    "    tokens = [word for word in tokens if word not in stopwords.words('english')]  # Stopword'leri kaldır\n",
    "    lemmatizer = WordNetLemmatizer()\n",
    "    stemmer = PorterStemmer()\n",
    "    tokens = [lemmatizer.lemmatize(word) for word in tokens]  # Lemmatize et\n",
    "    tokens = [stemmer.stem(word) for word in tokens]  # Stem et\n",
    "    return ' '.join(tokens)\n",
    "\n",
    "# Tüm sütunlar için temizleme fonksiyonunu uygula ve yeni bir DataFrame oluştur\n",
    "cleaned_df = pd.DataFrame()\n",
    "\n",
    "for column in df.columns:\n",
    "    cleaned_df[f\"{column}\"] = df[column].apply(clean_text)\n",
    "\n",
    "# Temizlenmiş DataFrame'i bir Excel dosyasına kaydet\n",
    "cleaned_df.to_excel(\"cleaned_data.xlsx\", index=False)\n",
    "\n",
    "# Temizlenmiş verinin ilk birkaç satırını görüntüle\n",
    "print(cleaned_df.head())"
   ]
  },
  {
   "cell_type": "code",
   "execution_count": 14,
   "metadata": {},
   "outputs": [
    {
     "data": {
      "text/html": [
       "<div>\n",
       "<style scoped>\n",
       "    .dataframe tbody tr th:only-of-type {\n",
       "        vertical-align: middle;\n",
       "    }\n",
       "\n",
       "    .dataframe tbody tr th {\n",
       "        vertical-align: top;\n",
       "    }\n",
       "\n",
       "    .dataframe thead th {\n",
       "        text-align: right;\n",
       "    }\n",
       "</style>\n",
       "<table border=\"1\" class=\"dataframe\">\n",
       "  <thead>\n",
       "    <tr style=\"text-align: right;\">\n",
       "      <th></th>\n",
       "      <th>Başlık</th>\n",
       "      <th>Kategori</th>\n",
       "      <th>İçerik</th>\n",
       "    </tr>\n",
       "  </thead>\n",
       "  <tbody>\n",
       "    <tr>\n",
       "      <th>0</th>\n",
       "      <td>relief rally vanishes new data</td>\n",
       "      <td>business</td>\n",
       "      <td>wall street followed european asian market hig...</td>\n",
       "    </tr>\n",
       "    <tr>\n",
       "      <th>1</th>\n",
       "      <td>hit miss</td>\n",
       "      <td>nfl</td>\n",
       "      <td>nfl executive many additional month plan freea...</td>\n",
       "    </tr>\n",
       "    <tr>\n",
       "      <th>2</th>\n",
       "      <td>correction august</td>\n",
       "      <td>correction</td>\n",
       "      <td>correction appearing print august</td>\n",
       "    </tr>\n",
       "    <tr>\n",
       "      <th>3</th>\n",
       "      <td>peabody arcelor go hostile macarthur bid</td>\n",
       "      <td>business</td>\n",
       "      <td>peabody energy arcelormittal took bid macarthu...</td>\n",
       "    </tr>\n",
       "    <tr>\n",
       "      <th>4</th>\n",
       "      <td>‘ ’ die ’</td>\n",
       "      <td>multimediaphotos</td>\n",
       "      <td>laura eltantawy ’ explain drew photograph effe...</td>\n",
       "    </tr>\n",
       "  </tbody>\n",
       "</table>\n",
       "</div>"
      ],
      "text/plain": [
       "                                     Başlık          Kategori  \\\n",
       "0            relief rally vanishes new data          business   \n",
       "1                                  hit miss               nfl   \n",
       "2                         correction august        correction   \n",
       "3  peabody arcelor go hostile macarthur bid          business   \n",
       "4                                 ‘ ’ die ’  multimediaphotos   \n",
       "\n",
       "                                              İçerik  \n",
       "0  wall street followed european asian market hig...  \n",
       "1  nfl executive many additional month plan freea...  \n",
       "2                  correction appearing print august  \n",
       "3  peabody energy arcelormittal took bid macarthu...  \n",
       "4  laura eltantawy ’ explain drew photograph effe...  "
      ]
     },
     "execution_count": 14,
     "metadata": {},
     "output_type": "execute_result"
    }
   ],
   "source": [
    "df = pd.read_excel(\"cleaned_data.xlsx\")  # Replace with the path to your Excel file\n",
    "\n",
    "# Display the first few rows of the dataframe\n",
    "df.head()"
   ]
  },
  {
   "cell_type": "code",
   "execution_count": 15,
   "metadata": {},
   "outputs": [
    {
     "name": "stdout",
     "output_type": "stream",
     "text": [
      "Null değerlerin sayısı:\n",
      "Başlık      0\n",
      "Kategori    0\n",
      "İçerik      6\n",
      "dtype: int64\n",
      "Null değerlerin bulunduğu satırlar:\n",
      "                            Başlık  Kategori İçerik\n",
      "474      turkishstyle braised leek    recipe    NaN\n",
      "476       duck breast orange chile    recipe    NaN\n",
      "478            rosemary applesauce    recipe    NaN\n",
      "482                    farro salad    recipe    NaN\n",
      "483  turkishstyle braised eggplant    recipe    NaN\n",
      "578       breaking barrier lending  business    NaN\n"
     ]
    }
   ],
   "source": [
    "# Null değerlerin sayısını her sütun için kontrol et\n",
    "print(\"Null değerlerin sayısı:\")\n",
    "print(df.isnull().sum())\n",
    "\n",
    "# Null değerlerin bulunduğu satırları görüntüle\n",
    "null_rows = df[df.isnull().any(axis=1)]\n",
    "print(\"Null değerlerin bulunduğu satırlar:\")\n",
    "print(null_rows)"
   ]
  },
  {
   "cell_type": "code",
   "execution_count": 16,
   "metadata": {},
   "outputs": [],
   "source": [
    "df = df.dropna()"
   ]
  },
  {
   "cell_type": "code",
   "execution_count": 17,
   "metadata": {},
   "outputs": [
    {
     "name": "stdout",
     "output_type": "stream",
     "text": [
      "Null değerlerin sayısı:\n",
      "Başlık      0\n",
      "Kategori    0\n",
      "İçerik      0\n",
      "dtype: int64\n",
      "Null değerlerin bulunduğu satırlar:\n",
      "Empty DataFrame\n",
      "Columns: [Başlık, Kategori, İçerik]\n",
      "Index: []\n"
     ]
    }
   ],
   "source": [
    "print(\"Null değerlerin sayısı:\")\n",
    "print(df.isnull().sum())\n",
    "\n",
    "# Null değerlerin bulunduğu satırları görüntüle\n",
    "null_rows = df[df.isnull().any(axis=1)]\n",
    "print(\"Null değerlerin bulunduğu satırlar:\")\n",
    "print(null_rows)"
   ]
  }
 ],
 "metadata": {
  "kernelspec": {
   "display_name": "base",
   "language": "python",
   "name": "python3"
  },
  "language_info": {
   "codemirror_mode": {
    "name": "ipython",
    "version": 3
   },
   "file_extension": ".py",
   "mimetype": "text/x-python",
   "name": "python",
   "nbconvert_exporter": "python",
   "pygments_lexer": "ipython3",
   "version": "3.11.9"
  }
 },
 "nbformat": 4,
 "nbformat_minor": 2
}
